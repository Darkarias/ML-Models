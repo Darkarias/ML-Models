{
 "cells": [
  {
   "cell_type": "markdown",
   "id": "9323dbae",
   "metadata": {},
   "source": [
    "Basics and Fundamentals (Tensors and Tensor Operations)"
   ]
  },
  {
   "cell_type": "code",
   "execution_count": null,
   "id": "23bbacbe",
   "metadata": {},
   "outputs": [],
   "source": []
  }
 ],
 "metadata": {
  "language_info": {
   "name": "python"
  }
 },
 "nbformat": 4,
 "nbformat_minor": 5
}
